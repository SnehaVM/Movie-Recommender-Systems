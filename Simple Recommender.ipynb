{
 "cells": [
  {
   "cell_type": "code",
   "execution_count": null,
   "metadata": {
    "collapsed": true
   },
   "outputs": [],
   "source": [
    "#SIMPLE RECOMMENDER SYSTEM - are basic systems that recommends the top items without performing any personalization.\n",
    "#An SQL-like manipulation of the datasets using Pandas"
   ]
  },
  {
   "cell_type": "code",
   "execution_count": 47,
   "metadata": {
    "collapsed": true
   },
   "outputs": [],
   "source": [
    "import pandas as pd\n",
    "import numpy as np"
   ]
  },
  {
   "cell_type": "code",
   "execution_count": 48,
   "metadata": {},
   "outputs": [
    {
     "name": "stdout",
     "output_type": "stream",
     "text": [
      "reading data..\n",
      "reading complete..\n"
     ]
    }
   ],
   "source": [
    "\n",
    "data_cols = ['user id','movie id','rating','timestamp']\n",
    "\n",
    "user_cols = ['user id','age','gender','occupation','zip code']\n",
    "\n",
    "item_cols = ['movie id','movie title','release date','video release date','IMDb URL','unknown','Action','Adventure',\n",
    "             'Animation','Childrens','Comedy','Crime','Documentary','Drama','Fantasy','Film-Noir','Horror','Musical',\n",
    "             'Mystery','Romance ','Sci-Fi','Thriller','War' ,'Western']\n",
    "\n",
    "filenameData = '/users/sneha/documents/RecommenderSystems/ml-100k/u.data'\n",
    "filenameUsers = '/users/sneha/documents/RecommenderSystems/ml-100k/u.user'\n",
    "filenameItems = '/users/sneha/documents/RecommenderSystems/ml-100k/u.item'\n",
    "\n",
    "print\"reading data..\"\n",
    "data = pd.read_csv(filenameData, sep = '\\t', names = data_cols)\n",
    "users = pd.read_csv(filenameUsers, sep = '|', names = user_cols)\n",
    "items = pd.read_csv(filenameItems, sep = '|', names = item_cols)\n",
    "print\"reading complete..\"\n"
   ]
  },
  {
   "cell_type": "code",
   "execution_count": 49,
   "metadata": {},
   "outputs": [
    {
     "name": "stdout",
     "output_type": "stream",
     "text": [
      "movie title\n",
      "'Til There Was You (1997)                        9\n",
      "1-900 (1994)                                     5\n",
      "101 Dalmatians (1996)                          109\n",
      "12 Angry Men (1957)                            125\n",
      "187 (1997)                                      41\n",
      "2 Days in the Valley (1996)                     93\n",
      "20,000 Leagues Under the Sea (1954)             72\n",
      "2001: A Space Odyssey (1968)                   259\n",
      "3 Ninjas: High Noon At Mega Mountain (1998)      5\n",
      "39 Steps, The (1935)                            59\n",
      "dtype: int64\n"
     ]
    }
   ],
   "source": [
    "#Create a single data frame from the three\n",
    "dataset = pd.merge(pd.merge(items, data),users)\n",
    "\n",
    "#Group the movies by their titles. Then use the size function to return the total number of entries \n",
    "#under each movie title. This will help us get the number of people who rated the movie.\n",
    "ratings_total = dataset.groupby('movie title').size()\n",
    "print ratings_total[0:10]"
   ]
  },
  {
   "cell_type": "code",
   "execution_count": 50,
   "metadata": {},
   "outputs": [
    {
     "name": "stdout",
     "output_type": "stream",
     "text": [
      "        rating                movie title  total ratings\n",
      "1398  4.358491           Star Wars (1977)            583\n",
      "333   3.803536             Contact (1997)            509\n",
      "498   4.155512               Fargo (1996)            508\n",
      "1234  4.007890  Return of the Jedi (1983)            507\n",
      "860   3.156701           Liar Liar (1997)            485\n"
     ]
    }
   ],
   "source": [
    "#Ratings_total is now a Series and not a Data Frame. So converting that into a dataframe\n",
    "ratings_total = pd.DataFrame({'movie title':ratings_total.index,'total ratings': ratings_total.values})\n",
    "ratings_mean['movie title'] = ratings_mean.index\n",
    "\n",
    "#merge and then sort the values by the total rating \n",
    "final = pd.merge(ratings_mean, ratings_total).sort_values(by = 'total ratings',ascending= False)\n",
    "print(final.head())"
   ]
  },
  {
   "cell_type": "code",
   "execution_count": 51,
   "metadata": {},
   "outputs": [
    {
     "name": "stdout",
     "output_type": "stream",
     "text": [
      "            rating  total ratings\n",
      "count  1664.000000    1664.000000\n",
      "mean      3.077018      60.096154\n",
      "std       0.780418      80.956484\n",
      "min       1.000000       1.000000\n",
      "25%       2.665094       7.000000\n",
      "50%       3.162132      27.000000\n",
      "75%       3.651808      80.250000\n",
      "max       5.000000     583.000000\n"
     ]
    }
   ],
   "source": [
    "#check basic characteristics of the data - to determine cut off\n",
    "#important bcoz it is not reliable to recommend a movie with a high mean rating\n",
    "#that has been rated by only a few people\n",
    "print(final.describe())"
   ]
  },
  {
   "cell_type": "code",
   "execution_count": 52,
   "metadata": {},
   "outputs": [
    {
     "name": "stdout",
     "output_type": "stream",
     "text": [
      "        rating                       movie title  total ratings\n",
      "1281  4.466443           Schindler's List (1993)            298\n",
      "273   4.456790                 Casablanca (1942)            243\n",
      "1317  4.445230  Shawshank Redemption, The (1994)            283\n",
      "1215  4.387560                Rear Window (1954)            209\n",
      "1572  4.385768        Usual Suspects, The (1995)            267\n"
     ]
    }
   ],
   "source": [
    "#75th percentile is at around 80.\n",
    "\n",
    "# m = final['total ratings'].quantile(.9)\n",
    "# print m\n",
    "\n",
    "final = final[:170].sort_values(by = 'rating',ascending = False)\n",
    "print(final.head())\n"
   ]
  }
 ],
 "metadata": {
  "kernelspec": {
   "display_name": "Python 2",
   "language": "python",
   "name": "python2"
  },
  "language_info": {
   "codemirror_mode": {
    "name": "ipython",
    "version": 2
   },
   "file_extension": ".py",
   "mimetype": "text/x-python",
   "name": "python",
   "nbconvert_exporter": "python",
   "pygments_lexer": "ipython2",
   "version": "2.7.14"
  }
 },
 "nbformat": 4,
 "nbformat_minor": 2
}
