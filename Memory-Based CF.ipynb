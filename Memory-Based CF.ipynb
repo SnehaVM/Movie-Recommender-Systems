{
 "cells": [
  {
   "cell_type": "code",
   "execution_count": 1,
   "metadata": {
    "collapsed": true
   },
   "outputs": [],
   "source": [
    "#Memory-Based Collaborative Filtering implementation using MovieLens dataset\n",
    "import pandas as pd\n",
    "import numpy as np"
   ]
  },
  {
   "cell_type": "code",
   "execution_count": 3,
   "metadata": {},
   "outputs": [
    {
     "name": "stdout",
     "output_type": "stream",
     "text": [
      "reading data..\n",
      "reading complete..\n"
     ]
    }
   ],
   "source": [
    "columns = ['userId','movieId','rating','timestamp']\n",
    "filename = '/users/sneha/documents/RecommenderSystems/ml-100k/u.data'\n",
    "print\"reading data..\"\n",
    "df = pd.read_csv(filename, sep = '\\t', names = columns)\n",
    "print\"reading complete..\"\n",
    "#print df.shape"
   ]
  },
  {
   "cell_type": "code",
   "execution_count": 4,
   "metadata": {},
   "outputs": [
    {
     "name": "stdout",
     "output_type": "stream",
     "text": [
      "Number of unique users: 943\n",
      "Number of unique movies: 1682\n"
     ]
    }
   ],
   "source": [
    "#curious to know how many users are there, and how many unique movies!!!\n",
    "n_users = df.userId.unique().shape[0]\n",
    "n_movies = df.movieId.unique().shape[0]\n",
    "print \"Number of unique users: \" + str(n_users)\n",
    "print \"Number of unique movies: \" + str(n_movies)"
   ]
  },
  {
   "cell_type": "code",
   "execution_count": 6,
   "metadata": {},
   "outputs": [
    {
     "name": "stdout",
     "output_type": "stream",
     "text": [
      "       userId  movieId  rating  timestamp\n",
      "48181     739       69       5  886959069\n",
      "51618     211      199       5  879459952\n",
      "6088      201      357       4  884111217\n",
      "19546     160      864       1  876770673\n",
      "96931     474      411       2  887915684\n"
     ]
    }
   ],
   "source": [
    "#split train and test records\n",
    "from sklearn import cross_validation as cv\n",
    "train_data, test_data = cv.train_test_split(df, test_size = 0.25)\n",
    "print train_data[0:5]"
   ]
  },
  {
   "cell_type": "code",
   "execution_count": 7,
   "metadata": {
    "collapsed": true
   },
   "outputs": [],
   "source": [
    "#Create two user-item matrices\n",
    "user_item_matrix_train = np.zeros((n_users,n_movies))\n",
    "for line in train_data.itertuples():\n",
    "    # will contain ratings of users in order of user id\n",
    "    user_item_matrix_train[line[1]-1, line[2]-1] = line[3]\n",
    "user_item_matrix_test = np.zeros((n_users, n_movies))\n",
    "for line in test_data.itertuples():\n",
    "    user_item_matrix_test[line[1]-1, line[2]-1] = line[3]"
   ]
  },
  {
   "cell_type": "code",
   "execution_count": 8,
   "metadata": {},
   "outputs": [],
   "source": [
    "from sklearn.metrics import pairwise_distances\n",
    "user_similarity = pairwise_distances(user_item_matrix_train, metric = 'cosine')\n",
    "item_similarity = pairwise_distances(user_item_matrix_train.T, metric = 'cosine')\n",
    "# X = [[5, 2],\n",
    "#      [1, 3]]\n",
    "# sim = pairwise_distances(X)\n"
   ]
  },
  {
   "cell_type": "code",
   "execution_count": 9,
   "metadata": {},
   "outputs": [],
   "source": [
    "#The idea for USER BASED CF is that some users may tend always to give high or low ratings to all movies.\n",
    "#Suppose, user k gives 4 stars to his favourite movies and 3 stars to all other good movies. \n",
    "#Suppose now that another user t rates movies that he/she likes with 5 stars, and other movies over with 3 stars. \n",
    "#These two users could have a very similar taste but treat the \"rating system\" differently.\n",
    "\n",
    "#The above processsing is not needed for ITEM BASED CF since query user itself is used to do predictions.\n",
    "def predict(ratings, similarity, type='user'):\n",
    "    if type == 'user':\n",
    "        #Find the mean of ratings - (later used to find non-biased data matrix)\n",
    "        mean_user_rating = ratings.mean(axis=1)\n",
    "      \n",
    "        #center the data by subtracting mean. \n",
    "        ##Use np.newaxis so that mean_user_rating has same format as ratings\n",
    "        ratings_diff = (ratings - mean_user_rating[:, np.newaxis])\n",
    "        \n",
    "        #use this unbiased ratings_diff matrix to find the dot product. Then add it to the mean user ratings to receive original matrix alike.\n",
    "        pred = mean_user_rating[:, np.newaxis] + similarity.dot(ratings_diff) / np.array([np.abs(similarity).sum(axis=1)]).T\n",
    "    elif type == 'item':\n",
    "        pred = ratings.dot(similarity) / np.array([np.abs(similarity).sum(axis=1)])\n",
    "    return pred\n",
    "\n",
    "item_prediction = predict(user_item_matrix_train, item_similarity, type='item')\n",
    "user_prediction = predict(user_item_matrix_train, user_similarity, type='user')"
   ]
  },
  {
   "cell_type": "code",
   "execution_count": 10,
   "metadata": {},
   "outputs": [
    {
     "name": "stdout",
     "output_type": "stream",
     "text": [
      "User-based CF RMSE: 3.12795278292\n",
      "Item-based CF RMSE: 3.45395158892\n"
     ]
    }
   ],
   "source": [
    "#Evaluation metrics - RMSE\n",
    "from sklearn.metrics import mean_squared_error\n",
    "from math import sqrt\n",
    "def rmse(prediction, actual):\n",
    "    #flatten - Returns a copy of the array collapsed into one dimension.\n",
    "    # nonzero() returns a tuple of arrays, one for each dimension, containing the indices of \n",
    "    #the non-zero elements in that dimension.\n",
    "    prediction = prediction[actual.nonzero()].flatten()\n",
    "    actual = actual[actual.nonzero()].flatten()\n",
    "    return sqrt(mean_squared_error(prediction, actual))\n",
    "\n",
    "print 'User-based CF RMSE: ' + str(rmse(user_prediction, user_item_matrix_test))\n",
    "print 'Item-based CF RMSE: ' + str(rmse(item_prediction, user_item_matrix_test))"
   ]
  },
  {
   "cell_type": "code",
   "execution_count": null,
   "metadata": {
    "collapsed": true
   },
   "outputs": [],
   "source": []
  }
 ],
 "metadata": {
  "kernelspec": {
   "display_name": "Python 2",
   "language": "python",
   "name": "python2"
  },
  "language_info": {
   "codemirror_mode": {
    "name": "ipython",
    "version": 2
   },
   "file_extension": ".py",
   "mimetype": "text/x-python",
   "name": "python",
   "nbconvert_exporter": "python",
   "pygments_lexer": "ipython2",
   "version": "2.7.14"
  }
 },
 "nbformat": 4,
 "nbformat_minor": 2
}
